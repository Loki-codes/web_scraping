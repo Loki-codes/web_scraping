{
 "cells": [
  {
   "cell_type": "code",
   "execution_count": 59,
   "metadata": {},
   "outputs": [],
   "source": [
    "from splinter import Browser\n",
    "from bs4 import BeautifulSoup\n",
    "from webdriver_manager.chrome import ChromeDriverManager\n",
    "from pprint import pprint\n",
    "import time"
   ]
  },
  {
   "cell_type": "code",
   "execution_count": 61,
   "metadata": {},
   "outputs": [],
   "source": [
    "# I needed a list to hold the dictionary of resonses from this function as well as a variable to hold the\n",
    "# chunks of html that I would need to click through. \n",
    "links = []\n",
    "chunks = []\n",
    "def hemi_image_link_maker():\n",
    "    executable_path = {'executable_path': ChromeDriverManager().install()}\n",
    "    browser = Browser('chrome', **executable_path, headless=False)\n",
    "    url = \"https://marshemispheres.com/\"\n",
    "    browser.visit(url)\n",
    "\n",
    "    html = browser.html\n",
    "    soup = BeautifulSoup(html, \"html.parser\")\n",
    "#     creating the chunks of html to loop through to go to each hemisphere's web page.\n",
    "    chunks =soup.find_all(\"div\" ,class_=\"item\")\n",
    "    for i in range(len(chunks)):\n",
    "        hemi_page = browser.find_by_css(\"a.product-item h3\")\n",
    "        hemi_page[i].click()\n",
    "        time.sleep(1)\n",
    "        img_html = browser.html\n",
    "        img_soup = BeautifulSoup(img_html,'html.parser')\n",
    "#         get the title of the photo\n",
    "        title = img_soup.find('h2', class_='title').get_text()\n",
    "#         get the url of the photo\n",
    "        img_page = img_soup.find('div', class_='downloads')\n",
    "        img_box = img_page.find('li')\n",
    "        img_link = img_box.find('a')['href']\n",
    "        \n",
    "        img_whole_link = f\"{url}{img_link}\"\n",
    "        \n",
    "        links.append({\"title\": title,\n",
    "                    'Image_link': img_whole_link})\n",
    "        browser.back()\n",
    "        \n",
    "        return links\n",
    "   "
   ]
  },
  {
   "cell_type": "code",
   "execution_count": null,
   "metadata": {},
   "outputs": [],
   "source": [
    "\n"
   ]
  }
 ],
 "metadata": {
  "kernelspec": {
   "display_name": "Python 3",
   "language": "python",
   "name": "python3"
  },
  "language_info": {
   "codemirror_mode": {
    "name": "ipython",
    "version": 3
   },
   "file_extension": ".py",
   "mimetype": "text/x-python",
   "name": "python",
   "nbconvert_exporter": "python",
   "pygments_lexer": "ipython3",
   "version": "3.8.5"
  }
 },
 "nbformat": 4,
 "nbformat_minor": 4
}
